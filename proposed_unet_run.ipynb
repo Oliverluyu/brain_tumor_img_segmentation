{
  "nbformat": 4,
  "nbformat_minor": 0,
  "metadata": {
    "colab": {
      "provenance": [],
      "gpuType": "T4"
    },
    "kernelspec": {
      "name": "python3",
      "display_name": "Python 3"
    },
    "language_info": {
      "name": "python"
    },
    "accelerator": "GPU"
  },
  "cells": [
    {
      "cell_type": "code",
      "execution_count": 1,
      "metadata": {
        "colab": {
          "base_uri": "https://localhost:8080/"
        },
        "id": "DFSMBPPf8SE7",
        "outputId": "cce79ef2-bfda-4d6f-d00f-f14c5a31dcfa"
      },
      "outputs": [
        {
          "output_type": "stream",
          "name": "stdout",
          "text": [
            "Cloning into 'brain_tumor_img_segmentation'...\n",
            "remote: Enumerating objects: 13612, done.\u001b[K\n",
            "remote: Counting objects: 100% (463/463), done.\u001b[K\n",
            "remote: Compressing objects: 100% (225/225), done.\u001b[K\n",
            "remote: Total 13612 (delta 247), reused 422 (delta 238), pack-reused 13149\u001b[K\n",
            "Receiving objects: 100% (13612/13612), 1.51 GiB | 14.83 MiB/s, done.\n",
            "Resolving deltas: 100% (801/801), done.\n",
            "Updating files: 100% (15751/15751), done.\n"
          ]
        }
      ],
      "source": [
        "!git clone https://github.com/Oliverluyu/brain_tumor_img_segmentation.git"
      ]
    },
    {
      "cell_type": "code",
      "source": [
        "!pip install einops\n",
        "%cd brain_tumor_img_segmentation\n",
        "!git checkout master"
      ],
      "metadata": {
        "colab": {
          "base_uri": "https://localhost:8080/"
        },
        "id": "aMiBYbGk8f5d",
        "outputId": "abc9fb60-25cf-40bf-a27b-4b5cbfe7986b"
      },
      "execution_count": 2,
      "outputs": [
        {
          "output_type": "stream",
          "name": "stdout",
          "text": [
            "Collecting einops\n",
            "  Downloading einops-0.8.0-py3-none-any.whl (43 kB)\n",
            "\u001b[?25l     \u001b[90m━━━━━━━━━━━━━━━━━━━━━━━━━━━━━━━━━━━━━━━━\u001b[0m \u001b[32m0.0/43.2 kB\u001b[0m \u001b[31m?\u001b[0m eta \u001b[36m-:--:--\u001b[0m\r\u001b[2K     \u001b[90m━━━━━━━━━━━━━━━━━━━━━━━━━━━━━━━━━━━━━━━━\u001b[0m \u001b[32m43.2/43.2 kB\u001b[0m \u001b[31m1.7 MB/s\u001b[0m eta \u001b[36m0:00:00\u001b[0m\n",
            "\u001b[?25hInstalling collected packages: einops\n",
            "Successfully installed einops-0.8.0\n",
            "/content/brain_tumor_img_segmentation\n",
            "Already on 'master'\n",
            "Your branch is up to date with 'origin/master'.\n"
          ]
        }
      ]
    },
    {
      "cell_type": "markdown",
      "source": [
        "### Proposed Multi-attention Unet with Convolution Mixer (Tumour and Non-Tumour) Segmentation"
      ],
      "metadata": {
        "id": "vTiqx0Pq854X"
      }
    },
    {
      "cell_type": "code",
      "source": [
        "!python training.py -c Configs/seg_unet_proposed_unet.json"
      ],
      "metadata": {
        "colab": {
          "base_uri": "https://localhost:8080/"
        },
        "id": "AlDU7_a1837k",
        "outputId": "7dbdd2a4-bf7d-48aa-da1b-bd8878b084ec"
      },
      "execution_count": 3,
      "outputs": [
        {
          "output_type": "stream",
          "name": "stdout",
          "text": [
            "100% 399/399 [04:15<00:00,  1.56it/s]\n",
            "Epoch: 1; train loss: 0.4464; validation loss: 0.3580\n",
            "100% 399/399 [04:14<00:00,  1.57it/s]\n",
            "Epoch: 2; train loss: 0.3356; validation loss: 0.3263\n",
            "100% 399/399 [04:14<00:00,  1.57it/s]\n",
            "Epoch: 3; train loss: 0.3007; validation loss: 0.2999\n",
            "100% 399/399 [04:14<00:00,  1.57it/s]\n",
            "Epoch: 4; train loss: 0.2840; validation loss: 0.2875\n",
            "100% 399/399 [04:14<00:00,  1.57it/s]\n",
            "Epoch: 5; train loss: 0.2682; validation loss: 0.2735\n",
            "100% 399/399 [04:14<00:00,  1.57it/s]\n",
            "Epoch: 6; train loss: 0.2643; validation loss: 0.2752\n",
            "100% 399/399 [04:14<00:00,  1.57it/s]\n",
            "Epoch: 7; train loss: 0.2567; validation loss: 0.2708\n",
            "100% 399/399 [04:14<00:00,  1.57it/s]\n",
            "Epoch: 8; train loss: 0.2465; validation loss: 0.2715\n",
            "100% 399/399 [04:14<00:00,  1.57it/s]\n",
            "Epoch: 9; train loss: 0.2409; validation loss: 0.2742\n",
            "100% 399/399 [04:14<00:00,  1.57it/s]\n",
            "Epoch: 10; train loss: 0.2357; validation loss: 0.2581\n",
            "100% 399/399 [04:14<00:00,  1.57it/s]\n",
            "Epoch: 11; train loss: 0.2217; validation loss: 0.2484\n",
            "100% 399/399 [04:13<00:00,  1.57it/s]\n",
            "Epoch: 12; train loss: 0.2130; validation loss: 0.2502\n",
            "100% 399/399 [04:13<00:00,  1.57it/s]\n",
            "Epoch: 13; train loss: 0.2101; validation loss: 0.2513\n",
            "100% 399/399 [04:13<00:00,  1.58it/s]\n",
            "Epoch: 14; train loss: 0.2089; validation loss: 0.2471\n",
            "100% 399/399 [04:12<00:00,  1.58it/s]\n",
            "Epoch: 15; train loss: 0.2043; validation loss: 0.2516\n",
            "Figure(1000x500)\n",
            "Plot saved to saved_models/model_performance_20240428-194119.png\n",
            "Training of  segmentation  is finished!!!\n"
          ]
        }
      ]
    },
    {
      "cell_type": "code",
      "source": [
        "!python testing.py -c Configs/seg_unet_proposed_unet.json"
      ],
      "metadata": {
        "id": "Xw6Ih6rIPbJ9",
        "colab": {
          "base_uri": "https://localhost:8080/"
        },
        "outputId": "556a5a05-871c-4fac-b4bd-6044032e4375"
      },
      "execution_count": 4,
      "outputs": [
        {
          "output_type": "stream",
          "name": "stdout",
          "text": [
            "Saved visualization to saved_models/Proposed_attention_unet_best_segmentation.pth_1.png\n",
            "Saved visualization to saved_models/Proposed_attention_unet_best_segmentation.pth_2.png\n",
            "Saved visualization to saved_models/Proposed_attention_unet_best_segmentation.pth_3.png\n",
            "Average IoU for the test set: 0.7081\n",
            "Average F1 Score for the test set: 0.5868\n",
            "Average Precision: 0.5895\n",
            "Average Recall/Sensitivity: 0.6320\n",
            "Average Specificity: 0.9968\n"
          ]
        }
      ]
    }
  ]
}