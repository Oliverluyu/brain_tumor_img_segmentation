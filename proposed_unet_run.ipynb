{
  "nbformat": 4,
  "nbformat_minor": 0,
  "metadata": {
    "colab": {
      "provenance": [],
      "gpuType": "T4"
    },
    "kernelspec": {
      "name": "python3",
      "display_name": "Python 3"
    },
    "language_info": {
      "name": "python"
    },
    "accelerator": "GPU"
  },
  "cells": [
    {
      "cell_type": "code",
      "execution_count": null,
      "metadata": {
        "colab": {
          "base_uri": "https://localhost:8080/"
        },
        "id": "DFSMBPPf8SE7",
        "outputId": "02cb9479-4edf-4a91-cbe9-f7beb71ea979"
      },
      "outputs": [
        {
          "output_type": "stream",
          "name": "stdout",
          "text": [
            "Cloning into 'brain_tumor_img_segmentation'...\n",
            "remote: Enumerating objects: 13587, done.\u001b[K\n",
            "remote: Counting objects: 100% (438/438), done.\u001b[K\n",
            "remote: Compressing objects: 100% (208/208), done.\u001b[K\n",
            "remote: Total 13587 (delta 230), reused 405 (delta 230), pack-reused 13149\u001b[K\n",
            "Receiving objects: 100% (13587/13587), 1.44 GiB | 34.45 MiB/s, done.\n",
            "Resolving deltas: 100% (784/784), done.\n",
            "Updating files: 100% (15750/15750), done.\n"
          ]
        }
      ],
      "source": [
        "!git clone https://github.com/Oliverluyu/brain_tumor_img_segmentation.git"
      ]
    },
    {
      "cell_type": "code",
      "source": [
        "!pip install einops\n",
        "%cd brain_tumor_img_segmentation\n",
        "!git checkout master"
      ],
      "metadata": {
        "colab": {
          "base_uri": "https://localhost:8080/"
        },
        "id": "aMiBYbGk8f5d",
        "outputId": "3d695814-6c60-4561-c349-a92fa09fea60"
      },
      "execution_count": null,
      "outputs": [
        {
          "output_type": "stream",
          "name": "stdout",
          "text": [
            "Collecting einops\n",
            "  Downloading einops-0.8.0-py3-none-any.whl (43 kB)\n",
            "\u001b[?25l     \u001b[90m━━━━━━━━━━━━━━━━━━━━━━━━━━━━━━━━━━━━━━━━\u001b[0m \u001b[32m0.0/43.2 kB\u001b[0m \u001b[31m?\u001b[0m eta \u001b[36m-:--:--\u001b[0m\r\u001b[2K     \u001b[90m━━━━━━━━━━━━━━━━━━━━━━━━━━━━━━━━━━━━━━━━\u001b[0m \u001b[32m43.2/43.2 kB\u001b[0m \u001b[31m1.9 MB/s\u001b[0m eta \u001b[36m0:00:00\u001b[0m\n",
            "\u001b[?25hInstalling collected packages: einops\n",
            "Successfully installed einops-0.8.0\n",
            "/content/brain_tumor_img_segmentation\n",
            "Already on 'master'\n",
            "Your branch is up to date with 'origin/master'.\n"
          ]
        }
      ]
    },
    {
      "cell_type": "markdown",
      "source": [
        "### Proposed Multi-attention Unet with Convolution Mixer (Tumour and Non-Tumour) Segmentation"
      ],
      "metadata": {
        "id": "vTiqx0Pq854X"
      }
    },
    {
      "cell_type": "code",
      "source": [
        "!python training.py -c Configs/seg_unet_proposed_unet.json"
      ],
      "metadata": {
        "colab": {
          "base_uri": "https://localhost:8080/"
        },
        "id": "AlDU7_a1837k",
        "outputId": "8f5acea3-2eeb-4b7c-cb4b-d94bd4a3c3a3"
      },
      "execution_count": 3,
      "outputs": [
        {
          "output_type": "stream",
          "name": "stdout",
          "text": [
            "100% 399/399 [04:18<00:00,  1.54it/s]\n",
            "Epoch: 1; train loss: 0.0588; validation loss: 0.0430\n",
            "100% 399/399 [04:19<00:00,  1.54it/s]\n",
            "Epoch: 2; train loss: 0.0319; validation loss: 0.0280\n",
            "100% 399/399 [04:18<00:00,  1.54it/s]\n",
            "Epoch: 3; train loss: 0.0250; validation loss: 0.0226\n",
            "100% 399/399 [04:18<00:00,  1.54it/s]\n",
            "Epoch: 4; train loss: 0.0204; validation loss: 0.0249\n",
            "100% 399/399 [04:18<00:00,  1.54it/s]\n",
            "Epoch: 5; train loss: 0.0182; validation loss: 0.0187\n",
            "100% 399/399 [04:18<00:00,  1.54it/s]\n",
            "Epoch: 6; train loss: 0.0157; validation loss: 0.0168\n",
            "100% 399/399 [04:18<00:00,  1.54it/s]\n",
            "Epoch: 7; train loss: 0.0144; validation loss: 0.0160\n",
            "100% 399/399 [04:18<00:00,  1.54it/s]\n",
            "Epoch: 8; train loss: 0.0136; validation loss: 0.0186\n",
            "Figure(1000x500)\n",
            "Plot saved to saved_models/model_performance_20240428-111823.png\n",
            "Training of  segmentation  is finished!!!\n"
          ]
        }
      ]
    },
    {
      "cell_type": "code",
      "source": [
        "!python testing.py -c Configs/seg_unet_proposed_unet.json"
      ],
      "metadata": {
        "id": "Xw6Ih6rIPbJ9",
        "colab": {
          "base_uri": "https://localhost:8080/"
        },
        "outputId": "24cb3b7d-013f-4e47-e603-348a9d7d9515"
      },
      "execution_count": 4,
      "outputs": [
        {
          "output_type": "stream",
          "name": "stdout",
          "text": [
            "Saved visualization to saved_models/Proposed_attention_unet_best_segmentation.pth_1.png\n",
            "Saved visualization to saved_models/Proposed_attention_unet_best_segmentation.pth_2.png\n",
            "Saved visualization to saved_models/Proposed_attention_unet_best_segmentation.pth_3.png\n",
            "Average IoU for the test set: 0.7002\n",
            "Average F1 Score for the test set: 0.5112\n",
            "Average Precision: 0.5475\n",
            "Average Recall/Sensitivity: 0.5250\n",
            "Average Specificity: 0.9983\n"
          ]
        }
      ]
    }
  ]
}