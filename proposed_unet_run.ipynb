{
  "nbformat": 4,
  "nbformat_minor": 0,
  "metadata": {
    "colab": {
      "provenance": [],
      "gpuType": "T4"
    },
    "kernelspec": {
      "name": "python3",
      "display_name": "Python 3"
    },
    "language_info": {
      "name": "python"
    },
    "accelerator": "GPU"
  },
  "cells": [
    {
      "cell_type": "code",
      "execution_count": null,
      "metadata": {
        "colab": {
          "base_uri": "https://localhost:8080/"
        },
        "id": "DFSMBPPf8SE7",
        "outputId": "86fab1f5-476a-435f-b934-1aea5cf12566"
      },
      "outputs": [
        {
          "output_type": "stream",
          "name": "stdout",
          "text": [
            "Cloning into 'brain_tumor_img_segmentation'...\n",
            "remote: Enumerating objects: 13633, done.\u001b[K\n",
            "remote: Counting objects: 100% (484/484), done.\u001b[K\n",
            "remote: Compressing objects: 100% (245/245), done.\u001b[K\n",
            "remote: Total 13633 (delta 257), reused 428 (delta 239), pack-reused 13149\u001b[K\n",
            "Receiving objects: 100% (13633/13633), 1.59 GiB | 36.53 MiB/s, done.\n",
            "Resolving deltas: 100% (811/811), done.\n",
            "Updating files: 100% (15757/15757), done.\n"
          ]
        }
      ],
      "source": [
        "!git clone https://github.com/Oliverluyu/brain_tumor_img_segmentation.git"
      ]
    },
    {
      "cell_type": "code",
      "source": [
        "!pip install einops\n",
        "%cd brain_tumor_img_segmentation\n",
        "!git checkout master"
      ],
      "metadata": {
        "colab": {
          "base_uri": "https://localhost:8080/"
        },
        "id": "aMiBYbGk8f5d",
        "outputId": "fa63b4cc-681f-46f7-ff4d-34018f9772ce"
      },
      "execution_count": null,
      "outputs": [
        {
          "output_type": "stream",
          "name": "stdout",
          "text": [
            "Collecting einops\n",
            "  Downloading einops-0.8.0-py3-none-any.whl (43 kB)\n",
            "\u001b[?25l     \u001b[90m━━━━━━━━━━━━━━━━━━━━━━━━━━━━━━━━━━━━━━━━\u001b[0m \u001b[32m0.0/43.2 kB\u001b[0m \u001b[31m?\u001b[0m eta \u001b[36m-:--:--\u001b[0m\r\u001b[2K     \u001b[90m━━━━━━━━━━━━━━━━━━━━━━━━━━━━━━━━━━━━━━━━\u001b[0m \u001b[32m43.2/43.2 kB\u001b[0m \u001b[31m1.9 MB/s\u001b[0m eta \u001b[36m0:00:00\u001b[0m\n",
            "\u001b[?25hInstalling collected packages: einops\n",
            "Successfully installed einops-0.8.0\n",
            "/content/brain_tumor_img_segmentation\n",
            "Already on 'master'\n",
            "Your branch is up to date with 'origin/master'.\n"
          ]
        }
      ]
    },
    {
      "cell_type": "markdown",
      "source": [
        "### Proposed Multi-attention Unet (Tumour and Non-Tumour) Segmentation"
      ],
      "metadata": {
        "id": "vTiqx0Pq854X"
      }
    },
    {
      "cell_type": "code",
      "source": [
        "!python training.py -c Configs/seg_unet_proposed_unet.json"
      ],
      "metadata": {
        "colab": {
          "base_uri": "https://localhost:8080/"
        },
        "outputId": "7dbdd2a4-bf7d-48aa-da1b-bd8878b084ec",
        "id": "Nx1WLRCa_lAp"
      },
      "execution_count": null,
      "outputs": [
        {
          "output_type": "stream",
          "name": "stdout",
          "text": [
            "100% 399/399 [04:15<00:00,  1.56it/s]\n",
            "Epoch: 1; train loss: 0.4464; validation loss: 0.3580\n",
            "100% 399/399 [04:14<00:00,  1.57it/s]\n",
            "Epoch: 2; train loss: 0.3356; validation loss: 0.3263\n",
            "100% 399/399 [04:14<00:00,  1.57it/s]\n",
            "Epoch: 3; train loss: 0.3007; validation loss: 0.2999\n",
            "100% 399/399 [04:14<00:00,  1.57it/s]\n",
            "Epoch: 4; train loss: 0.2840; validation loss: 0.2875\n",
            "100% 399/399 [04:14<00:00,  1.57it/s]\n",
            "Epoch: 5; train loss: 0.2682; validation loss: 0.2735\n",
            "100% 399/399 [04:14<00:00,  1.57it/s]\n",
            "Epoch: 6; train loss: 0.2643; validation loss: 0.2752\n",
            "100% 399/399 [04:14<00:00,  1.57it/s]\n",
            "Epoch: 7; train loss: 0.2567; validation loss: 0.2708\n",
            "100% 399/399 [04:14<00:00,  1.57it/s]\n",
            "Epoch: 8; train loss: 0.2465; validation loss: 0.2715\n",
            "100% 399/399 [04:14<00:00,  1.57it/s]\n",
            "Epoch: 9; train loss: 0.2409; validation loss: 0.2742\n",
            "100% 399/399 [04:14<00:00,  1.57it/s]\n",
            "Epoch: 10; train loss: 0.2357; validation loss: 0.2581\n",
            "100% 399/399 [04:14<00:00,  1.57it/s]\n",
            "Epoch: 11; train loss: 0.2217; validation loss: 0.2484\n",
            "100% 399/399 [04:13<00:00,  1.57it/s]\n",
            "Epoch: 12; train loss: 0.2130; validation loss: 0.2502\n",
            "100% 399/399 [04:13<00:00,  1.57it/s]\n",
            "Epoch: 13; train loss: 0.2101; validation loss: 0.2513\n",
            "100% 399/399 [04:13<00:00,  1.58it/s]\n",
            "Epoch: 14; train loss: 0.2089; validation loss: 0.2471\n",
            "100% 399/399 [04:12<00:00,  1.58it/s]\n",
            "Epoch: 15; train loss: 0.2043; validation loss: 0.2516\n",
            "Figure(1000x500)\n",
            "Plot saved to saved_models/model_performance_20240428-194119.png\n",
            "Training of  segmentation  is finished!!!\n"
          ]
        }
      ]
    },
    {
      "cell_type": "code",
      "source": [
        "!python testing.py -c Configs/seg_unet_proposed_unet.json"
      ],
      "metadata": {
        "colab": {
          "base_uri": "https://localhost:8080/"
        },
        "outputId": "556a5a05-871c-4fac-b4bd-6044032e4375",
        "id": "_JQU2a98_zBk"
      },
      "execution_count": null,
      "outputs": [
        {
          "output_type": "stream",
          "name": "stdout",
          "text": [
            "Saved visualization to saved_models/Proposed_attention_unet_best_segmentation.pth_1.png\n",
            "Saved visualization to saved_models/Proposed_attention_unet_best_segmentation.pth_2.png\n",
            "Saved visualization to saved_models/Proposed_attention_unet_best_segmentation.pth_3.png\n",
            "Average IoU for the test set: 0.7081\n",
            "Average F1 Score for the test set: 0.5868\n",
            "Average Precision: 0.5895\n",
            "Average Recall/Sensitivity: 0.6320\n",
            "Average Specificity: 0.9968\n"
          ]
        }
      ]
    },
    {
      "cell_type": "markdown",
      "source": [
        "### Proposed Multi-attention Unet with Convolution Mixer (Tumour and Non-Tumour) Segmentation"
      ],
      "metadata": {
        "id": "kMpY7k_n_DwN"
      }
    },
    {
      "cell_type": "code",
      "source": [
        "!python training.py -c Configs/seg_unet_proposed_unet.json"
      ],
      "metadata": {
        "colab": {
          "base_uri": "https://localhost:8080/"
        },
        "id": "AlDU7_a1837k",
        "outputId": "661531bd-95c6-42f1-a56d-3a5f9fc1ee8a"
      },
      "execution_count": null,
      "outputs": [
        {
          "output_type": "stream",
          "name": "stdout",
          "text": [
            "100% 399/399 [04:09<00:00,  1.60it/s]\n",
            "Epoch: 1; train loss: 0.4208; validation loss: 0.3594\n",
            "100% 399/399 [04:12<00:00,  1.58it/s]\n",
            "Epoch: 2; train loss: 0.3232; validation loss: 0.3157\n",
            "100% 399/399 [04:12<00:00,  1.58it/s]\n",
            "Epoch: 3; train loss: 0.2930; validation loss: 0.2941\n",
            "100% 399/399 [04:11<00:00,  1.58it/s]\n",
            "Epoch: 4; train loss: 0.2740; validation loss: 0.2801\n",
            "100% 399/399 [04:11<00:00,  1.58it/s]\n",
            "Epoch: 5; train loss: 0.2598; validation loss: 0.2710\n",
            "100% 399/399 [04:11<00:00,  1.59it/s]\n",
            "Epoch: 6; train loss: 0.2499; validation loss: 0.2692\n",
            "100% 399/399 [04:12<00:00,  1.58it/s]\n",
            "Epoch: 7; train loss: 0.2398; validation loss: 0.2653\n",
            "100% 399/399 [04:11<00:00,  1.58it/s]\n",
            "Epoch: 8; train loss: 0.2347; validation loss: 0.2577\n",
            "100% 399/399 [04:11<00:00,  1.59it/s]\n",
            "Epoch: 9; train loss: 0.2249; validation loss: 0.2599\n",
            "100% 399/399 [04:12<00:00,  1.58it/s]\n",
            "Epoch: 10; train loss: 0.2183; validation loss: 0.2588\n",
            "100% 399/399 [04:12<00:00,  1.58it/s]\n",
            "Epoch: 11; train loss: 0.2056; validation loss: 0.2446\n",
            "100% 399/399 [04:12<00:00,  1.58it/s]\n",
            "Epoch: 12; train loss: 0.1993; validation loss: 0.2470\n",
            "100% 399/399 [04:12<00:00,  1.58it/s]\n",
            "Epoch: 13; train loss: 0.1948; validation loss: 0.2490\n",
            "100% 399/399 [04:11<00:00,  1.59it/s]\n",
            "Epoch: 14; train loss: 0.1914; validation loss: 0.2479\n",
            "100% 399/399 [04:11<00:00,  1.59it/s]\n",
            "Epoch: 15; train loss: 0.1885; validation loss: 0.2524\n",
            "100% 399/399 [04:11<00:00,  1.59it/s]\n",
            "Epoch: 16; train loss: 0.1877; validation loss: 0.2506\n",
            "100% 399/399 [04:10<00:00,  1.59it/s]\n",
            "Epoch: 17; train loss: 0.1852; validation loss: 0.2500\n",
            "100% 399/399 [04:09<00:00,  1.60it/s]\n",
            "Epoch: 18; train loss: 0.1826; validation loss: 0.2525\n",
            "100% 399/399 [04:09<00:00,  1.60it/s]\n",
            "Epoch: 19; train loss: 0.1819; validation loss: 0.2553\n",
            "100% 399/399 [04:09<00:00,  1.60it/s]\n",
            "Epoch: 20; train loss: 0.1842; validation loss: 0.2524\n",
            "Figure(1000x500)\n",
            "Plot saved to saved_models/model_performance_20240429-083710.png\n",
            "Training of  segmentation  is finished!!!\n"
          ]
        }
      ]
    },
    {
      "cell_type": "code",
      "source": [
        "!python testing.py -c Configs/seg_unet_proposed_unet.json"
      ],
      "metadata": {
        "id": "Xw6Ih6rIPbJ9",
        "colab": {
          "base_uri": "https://localhost:8080/"
        },
        "outputId": "afc852e2-3e40-40a9-8878-6830b457b5f5"
      },
      "execution_count": null,
      "outputs": [
        {
          "output_type": "stream",
          "name": "stdout",
          "text": [
            "Saved visualization to saved_models/Proposed_attention_unet_convmixer_best_segmentation.pth_1.png\n",
            "Saved visualization to saved_models/Proposed_attention_unet_convmixer_best_segmentation.pth_2.png\n",
            "Saved visualization to saved_models/Proposed_attention_unet_convmixer_best_segmentation.pth_3.png\n",
            "Average IoU for the test set: 0.6947\n",
            "Average F1 Score for the test set: 0.5822\n",
            "Average Precision: 0.5776\n",
            "Average Recall/Sensitivity: 0.6178\n",
            "Average Specificity: 0.9977\n"
          ]
        }
      ]
    },
    {
      "cell_type": "markdown",
      "source": [
        "### Proposed Multi-attention Unet with Transfer Learning (Tumour and Non-tumour) Segmentation"
      ],
      "metadata": {
        "id": "FUtiqV21B5uQ"
      }
    },
    {
      "cell_type": "code",
      "source": [
        "!python training.py -c Configs/cls_proposed_attention_unet_gated.json"
      ],
      "metadata": {
        "id": "COAujy3fA7tO"
      },
      "execution_count": null,
      "outputs": []
    },
    {
      "cell_type": "code",
      "source": [
        "!python training.py -c Configs/seg_unet_proposed_unet_transferLrn.json"
      ],
      "metadata": {
        "id": "lpGV05ylDeSt"
      },
      "execution_count": null,
      "outputs": []
    },
    {
      "cell_type": "code",
      "source": [
        "!python testing.py -c Configs/seg_unet_proposed_unet_transferLrn.json"
      ],
      "metadata": {
        "id": "vncPZRn0rZXh"
      },
      "execution_count": null,
      "outputs": []
    }
  ]
}